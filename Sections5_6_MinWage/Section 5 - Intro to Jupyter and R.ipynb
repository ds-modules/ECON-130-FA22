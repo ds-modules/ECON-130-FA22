{
 "cells": [
  {
   "cell_type": "markdown",
   "id": "9429681a",
   "metadata": {},
   "source": [
    "# Coding Section 1\n",
    "## Econ 130\n",
    "GSIs: Sarah Albert and Bryan Chu\n",
    "\n",
    "### Goals for today\n",
    "* Introduce you to Jupyter Notebook environment and coding in R\n",
    "* Walk through the basic steps to read a dataset into R\n",
    "* Do some basic data exploration\n",
    "* I will be assuming very little experience with coding and R\n",
    "\n",
    "\n",
    "This notebook is intended to introduce you to the practical implementation of basic analytic techniques in R in Jupyter notebooks. R is an open-source statistical computing software used to analyze data. A Jupyter Notebook is an open-source web application that allows you to create and share documents that contain live code, equations, visualizations and narrative text that describes the output of our code. \n",
    "\n",
    "First, we will cover some basics on how to interact with the Jupyter Notebook environment. Then, we will introduce some R code, read a dataset into R, and do some basic data exploration.\n",
    "\n"
   ]
  },
  {
   "cell_type": "markdown",
   "id": "2f5c1b35",
   "metadata": {},
   "source": [
    "## Jupyter Notebook Basics\n",
    "* To create a new notebook, click the \"New\" button and select R\n",
    "* All Jupyter Notebooks are comprised of a colelction of boxes called *cells*. We will be working with two types in this course: *Markdown* cells for text and *Code* cells for code.\n",
    "* Select a cell by clicking on it. \n",
    "    * If you click to the left of the cell contents, you will see a blue bar on the left. That means you are in *command mode*. You'll be able to see the Cell type in the dropdown list at the top of the page and you can use command mode keyboard shortcuts. You will not be able to edit the contents of the cell. Pressing `Esc` will take you into command mode.\n",
    "    * If you click in the cell, you'll instead enter *edit mode*. The bar at the left will be green and you will be able to edit the contents of the cell. Pressing `Enter` will take you into edit mode.\n",
    "* Create a  new cell by clicking the `+` icon at the top of the screen (under `File`)\n",
    "    * In command mode, you can also use `a` to create a new cell above and `b` to create a new cell below.\n",
    "* Write R script by selecting the option \"Code\" from the dropdown list, or write text by selecting \"Markdown\"\n",
    "* Select \"Insert\" to add a block of text or code\n",
    "* Run code by highlighting and selecting \"Run\"\n",
    "    * You can also use `control+enter` to run a cell, or `shift+enter` to run a cell and automatically select the next cell\n",
    "    * When code is running, you will see an asterisk * to the left of the cell. When it is finished, you will see a number (ex. In [4] is finished; In [*] is still running).\n",
    "* To clear your coding output, select Cell=>All Output=>Clear from the toolbar at the top of the page\n",
    "* Jupyter notebooks automatically save periodically, but you can also force it to save with `control+s`\n",
    "    * You can view the save status at the top of the page next to the notebook name\n",
    "* **IMPORTANT: Close a notebook by selecting `File`=>`Close and Halt`. Don't just close the tab! You might lose your progress.**\n",
    "* Some useful guides are here:\n",
    "    * [Markdown Cheat Sheet](https://www.markdownguide.org/cheat-sheet/) for pretty text like in this cell\n",
    "    * [Jupyter Notebook Keyboard Shortcuts](https://towardsdatascience.com/jypyter-notebook-shortcuts-bf0101a98330)\n",
    "    * Your GSIs refer to these all the time!\n",
    "\n",
    "Note: This introduction is based off material originally created by Kayleigh Barnes"
   ]
  },
  {
   "cell_type": "markdown",
   "id": "5e57d5dd",
   "metadata": {},
   "source": [
    "## R Basics"
   ]
  },
  {
   "cell_type": "code",
   "execution_count": null,
   "id": "4fd42bf9",
   "metadata": {},
   "outputs": [],
   "source": [
    "# Note that this is a Code cell.\n",
    "# The hashtag (or octothorpe, if you're old-fashioned) is how you tell R that what follows is\n",
    "# a \"comment\" and will not be interpreted as code. They are just references for you and us.\n",
    "\n",
    "# Clear the workspace, this removes all data and numbers you have stored or saved in R\n",
    "rm(list = ls())\n",
    "\n",
    "# The help function, using ? or help() before a command will bring up information on what the command does\n",
    "?setwd\n",
    "help(setwd)\n",
    "\n",
    "# Run these two commands by clicking `Run` at the top of the screen or by pressing \n",
    "# `control+enter`"
   ]
  },
  {
   "cell_type": "code",
   "execution_count": null,
   "id": "aa6b7055",
   "metadata": {},
   "outputs": [],
   "source": [
    "#The working directory is the location that R will look for data in\n",
    "getwd()\n",
    "\n",
    "# If you are working locally on your own computer (rather than in a Jupyter Notebook), you may\n",
    "# need to set the working directory.\n",
    "# Online, you do not need to do anything.\n",
    "# This is the same as telling your computer to look in a documents folder when uploading something.\n",
    "# Uncomment the setwd line below and replace your_folder_directory within the single quotes with \n",
    "# the directory you have saved your files in.\n",
    "# For example, you might use setwd('/Users/julien/Documents/Econ130/Coding')\n",
    "\n",
    "# setwd('your_folder_directory')"
   ]
  },
  {
   "cell_type": "code",
   "execution_count": 4,
   "id": "e4aaa925",
   "metadata": {},
   "outputs": [],
   "source": [
    "# Now let's read in a .csv file containing data.\n",
    "# We will name it minwage_data, which is how we will tell R to use it\n",
    "# R uses an arrow \"<-\" to assign values to variables, which is a little different from other programming\n",
    "# languages, which usually use the \"=\" sign.\n",
    "\n",
    "minwage_data <- read.csv('nj_min_wage.csv')"
   ]
  },
  {
   "cell_type": "markdown",
   "id": "22166562",
   "metadata": {},
   "source": [
    "Notice that there is no ouput from the code that reads in the data. Unlike Excel, R stores the data in the background and we need to use specific comands to interact with it. \n",
    "\n",
    "Once it's read in, we can use several commands to describe the data."
   ]
  },
  {
   "cell_type": "code",
   "execution_count": 5,
   "id": "8f1dbeb8",
   "metadata": {},
   "outputs": [
    {
     "name": "stdout",
     "output_type": "stream",
     "text": [
      "'data.frame':\t820 obs. of  32 variables:\n",
      " $ store_id : int  1 1 2 2 3 3 4 4 5 5 ...\n",
      " $ interview: int  1 2 1 2 1 2 1 2 1 2 ...\n",
      " $ chain    : int  1 1 1 1 2 2 3 3 3 3 ...\n",
      " $ co_owned : int  0 0 0 0 0 0 0 0 0 0 ...\n",
      " $ state    : int  1 1 1 1 1 1 1 1 1 1 ...\n",
      " $ southj   : int  0 0 0 0 0 0 0 0 0 0 ...\n",
      " $ centralj : int  1 1 1 1 1 1 1 1 1 1 ...\n",
      " $ northj   : int  0 0 0 0 0 0 0 0 0 0 ...\n",
      " $ pa1      : int  0 0 0 0 0 0 0 0 0 0 ...\n",
      " $ pa2      : int  0 0 0 0 0 0 0 0 0 0 ...\n",
      " $ shore    : int  0 0 0 0 0 0 0 0 0 0 ...\n",
      " $ pct_aff  : num  80 80 80 80 50 50 50 50 NA NA ...\n",
      " $ type     : int  NA 1 NA 1 NA 1 NA 1 NA 1 ...\n",
      " $ status   : int  NA 1 NA 1 NA 1 NA 1 NA 1 ...\n",
      " $ date     : int  NA 110592 NA 110592 NA 111792 NA 110592 NA 111892 ...\n",
      " $ ncalls   : int  0 NA 0 NA 3 2 0 NA 0 2 ...\n",
      " $ full_time: num  16 20 10 7.5 6 4 10 5 5 10 ...\n",
      " $ part_time: num  30 40 6 10 13 7 12 30 30 30 ...\n",
      " $ managers : num  4 4 3 3 3 3 3 4 4 4 ...\n",
      " $ wage_st  : num  4.5 5.05 4.75 5.25 4.25 ...\n",
      " $ inc_time : num  NA NA 26 19 13 26 4 26 13 4 ...\n",
      " $ first_inc: num  0.25 NA 0.5 0.38 0.25 ...\n",
      " $ special  : int  NA 0 NA 1 NA 0 NA 0 NA 0 ...\n",
      " $ meals    : int  3 2 1 1 2 1 2 2 1 2 ...\n",
      " $ open_hr  : num  7 7 7 7 11 11 9 8 6 6 ...\n",
      " $ hrs_open : num  16 16 14 15 10 11 12.5 13.5 17 17 ...\n",
      " $ p_soda   : num  0.93 1.05 1.06 1.05 1.06 ...\n",
      " $ p_fry    : num  0.83 0.79 0.91 1.01 0.95 ...\n",
      " $ p_entree : num  0.85 0.9 0.96 0.94 3.09 ...\n",
      " $ n_regs   : int  4 4 2 2 5 5 8 6 5 5 ...\n",
      " $ n_regs11 : int  3 3 2 2 3 3 4 4 4 5 ...\n",
      " $ bonus    : int  0 NA 1 NA 1 NA 0 NA 0 NA ...\n"
     ]
    }
   ],
   "source": [
    "# The str (\"structure\") command shows you the structure of the data along with some examples\n",
    "str(minwage_data)"
   ]
  },
  {
   "cell_type": "code",
   "execution_count": 6,
   "id": "93c08166",
   "metadata": {},
   "outputs": [
    {
     "data": {
      "text/html": [
       "<table class=\"dataframe\">\n",
       "<caption>A data.frame: 6 × 32</caption>\n",
       "<thead>\n",
       "\t<tr><th></th><th scope=col>store_id</th><th scope=col>interview</th><th scope=col>chain</th><th scope=col>co_owned</th><th scope=col>state</th><th scope=col>southj</th><th scope=col>centralj</th><th scope=col>northj</th><th scope=col>pa1</th><th scope=col>pa2</th><th scope=col>⋯</th><th scope=col>special</th><th scope=col>meals</th><th scope=col>open_hr</th><th scope=col>hrs_open</th><th scope=col>p_soda</th><th scope=col>p_fry</th><th scope=col>p_entree</th><th scope=col>n_regs</th><th scope=col>n_regs11</th><th scope=col>bonus</th></tr>\n",
       "\t<tr><th></th><th scope=col>&lt;int&gt;</th><th scope=col>&lt;int&gt;</th><th scope=col>&lt;int&gt;</th><th scope=col>&lt;int&gt;</th><th scope=col>&lt;int&gt;</th><th scope=col>&lt;int&gt;</th><th scope=col>&lt;int&gt;</th><th scope=col>&lt;int&gt;</th><th scope=col>&lt;int&gt;</th><th scope=col>&lt;int&gt;</th><th scope=col>⋯</th><th scope=col>&lt;int&gt;</th><th scope=col>&lt;int&gt;</th><th scope=col>&lt;dbl&gt;</th><th scope=col>&lt;dbl&gt;</th><th scope=col>&lt;dbl&gt;</th><th scope=col>&lt;dbl&gt;</th><th scope=col>&lt;dbl&gt;</th><th scope=col>&lt;int&gt;</th><th scope=col>&lt;int&gt;</th><th scope=col>&lt;int&gt;</th></tr>\n",
       "</thead>\n",
       "<tbody>\n",
       "\t<tr><th scope=row>1</th><td>1</td><td>1</td><td>1</td><td>0</td><td>1</td><td>0</td><td>1</td><td>0</td><td>0</td><td>0</td><td>⋯</td><td>NA</td><td>3</td><td> 7</td><td>16</td><td>0.93</td><td>0.83</td><td>0.85</td><td>4</td><td>3</td><td> 0</td></tr>\n",
       "\t<tr><th scope=row>2</th><td>1</td><td>2</td><td>1</td><td>0</td><td>1</td><td>0</td><td>1</td><td>0</td><td>0</td><td>0</td><td>⋯</td><td> 0</td><td>2</td><td> 7</td><td>16</td><td>1.05</td><td>0.79</td><td>0.90</td><td>4</td><td>3</td><td>NA</td></tr>\n",
       "\t<tr><th scope=row>3</th><td>2</td><td>1</td><td>1</td><td>0</td><td>1</td><td>0</td><td>1</td><td>0</td><td>0</td><td>0</td><td>⋯</td><td>NA</td><td>1</td><td> 7</td><td>14</td><td>1.06</td><td>0.91</td><td>0.96</td><td>2</td><td>2</td><td> 1</td></tr>\n",
       "\t<tr><th scope=row>4</th><td>2</td><td>2</td><td>1</td><td>0</td><td>1</td><td>0</td><td>1</td><td>0</td><td>0</td><td>0</td><td>⋯</td><td> 1</td><td>1</td><td> 7</td><td>15</td><td>1.05</td><td>1.01</td><td>0.94</td><td>2</td><td>2</td><td>NA</td></tr>\n",
       "\t<tr><th scope=row>5</th><td>3</td><td>1</td><td>2</td><td>0</td><td>1</td><td>0</td><td>1</td><td>0</td><td>0</td><td>0</td><td>⋯</td><td>NA</td><td>2</td><td>11</td><td>10</td><td>1.06</td><td>0.95</td><td>3.09</td><td>5</td><td>3</td><td> 1</td></tr>\n",
       "\t<tr><th scope=row>6</th><td>3</td><td>2</td><td>2</td><td>0</td><td>1</td><td>0</td><td>1</td><td>0</td><td>0</td><td>0</td><td>⋯</td><td> 0</td><td>1</td><td>11</td><td>11</td><td>1.05</td><td>0.94</td><td>2.75</td><td>5</td><td>3</td><td>NA</td></tr>\n",
       "</tbody>\n",
       "</table>\n"
      ],
      "text/latex": [
       "A data.frame: 6 × 32\n",
       "\\begin{tabular}{r|lllllllllllllllllllll}\n",
       "  & store\\_id & interview & chain & co\\_owned & state & southj & centralj & northj & pa1 & pa2 & ⋯ & special & meals & open\\_hr & hrs\\_open & p\\_soda & p\\_fry & p\\_entree & n\\_regs & n\\_regs11 & bonus\\\\\n",
       "  & <int> & <int> & <int> & <int> & <int> & <int> & <int> & <int> & <int> & <int> & ⋯ & <int> & <int> & <dbl> & <dbl> & <dbl> & <dbl> & <dbl> & <int> & <int> & <int>\\\\\n",
       "\\hline\n",
       "\t1 & 1 & 1 & 1 & 0 & 1 & 0 & 1 & 0 & 0 & 0 & ⋯ & NA & 3 &  7 & 16 & 0.93 & 0.83 & 0.85 & 4 & 3 &  0\\\\\n",
       "\t2 & 1 & 2 & 1 & 0 & 1 & 0 & 1 & 0 & 0 & 0 & ⋯ &  0 & 2 &  7 & 16 & 1.05 & 0.79 & 0.90 & 4 & 3 & NA\\\\\n",
       "\t3 & 2 & 1 & 1 & 0 & 1 & 0 & 1 & 0 & 0 & 0 & ⋯ & NA & 1 &  7 & 14 & 1.06 & 0.91 & 0.96 & 2 & 2 &  1\\\\\n",
       "\t4 & 2 & 2 & 1 & 0 & 1 & 0 & 1 & 0 & 0 & 0 & ⋯ &  1 & 1 &  7 & 15 & 1.05 & 1.01 & 0.94 & 2 & 2 & NA\\\\\n",
       "\t5 & 3 & 1 & 2 & 0 & 1 & 0 & 1 & 0 & 0 & 0 & ⋯ & NA & 2 & 11 & 10 & 1.06 & 0.95 & 3.09 & 5 & 3 &  1\\\\\n",
       "\t6 & 3 & 2 & 2 & 0 & 1 & 0 & 1 & 0 & 0 & 0 & ⋯ &  0 & 1 & 11 & 11 & 1.05 & 0.94 & 2.75 & 5 & 3 & NA\\\\\n",
       "\\end{tabular}\n"
      ],
      "text/markdown": [
       "\n",
       "A data.frame: 6 × 32\n",
       "\n",
       "| <!--/--> | store_id &lt;int&gt; | interview &lt;int&gt; | chain &lt;int&gt; | co_owned &lt;int&gt; | state &lt;int&gt; | southj &lt;int&gt; | centralj &lt;int&gt; | northj &lt;int&gt; | pa1 &lt;int&gt; | pa2 &lt;int&gt; | ⋯ ⋯ | special &lt;int&gt; | meals &lt;int&gt; | open_hr &lt;dbl&gt; | hrs_open &lt;dbl&gt; | p_soda &lt;dbl&gt; | p_fry &lt;dbl&gt; | p_entree &lt;dbl&gt; | n_regs &lt;int&gt; | n_regs11 &lt;int&gt; | bonus &lt;int&gt; |\n",
       "|---|---|---|---|---|---|---|---|---|---|---|---|---|---|---|---|---|---|---|---|---|---|\n",
       "| 1 | 1 | 1 | 1 | 0 | 1 | 0 | 1 | 0 | 0 | 0 | ⋯ | NA | 3 |  7 | 16 | 0.93 | 0.83 | 0.85 | 4 | 3 |  0 |\n",
       "| 2 | 1 | 2 | 1 | 0 | 1 | 0 | 1 | 0 | 0 | 0 | ⋯ |  0 | 2 |  7 | 16 | 1.05 | 0.79 | 0.90 | 4 | 3 | NA |\n",
       "| 3 | 2 | 1 | 1 | 0 | 1 | 0 | 1 | 0 | 0 | 0 | ⋯ | NA | 1 |  7 | 14 | 1.06 | 0.91 | 0.96 | 2 | 2 |  1 |\n",
       "| 4 | 2 | 2 | 1 | 0 | 1 | 0 | 1 | 0 | 0 | 0 | ⋯ |  1 | 1 |  7 | 15 | 1.05 | 1.01 | 0.94 | 2 | 2 | NA |\n",
       "| 5 | 3 | 1 | 2 | 0 | 1 | 0 | 1 | 0 | 0 | 0 | ⋯ | NA | 2 | 11 | 10 | 1.06 | 0.95 | 3.09 | 5 | 3 |  1 |\n",
       "| 6 | 3 | 2 | 2 | 0 | 1 | 0 | 1 | 0 | 0 | 0 | ⋯ |  0 | 1 | 11 | 11 | 1.05 | 0.94 | 2.75 | 5 | 3 | NA |\n",
       "\n"
      ],
      "text/plain": [
       "  store_id interview chain co_owned state southj centralj northj pa1 pa2 ⋯\n",
       "1 1        1         1     0        1     0      1        0      0   0   ⋯\n",
       "2 1        2         1     0        1     0      1        0      0   0   ⋯\n",
       "3 2        1         1     0        1     0      1        0      0   0   ⋯\n",
       "4 2        2         1     0        1     0      1        0      0   0   ⋯\n",
       "5 3        1         2     0        1     0      1        0      0   0   ⋯\n",
       "6 3        2         2     0        1     0      1        0      0   0   ⋯\n",
       "  special meals open_hr hrs_open p_soda p_fry p_entree n_regs n_regs11 bonus\n",
       "1 NA      3      7      16       0.93   0.83  0.85     4      3         0   \n",
       "2  0      2      7      16       1.05   0.79  0.90     4      3        NA   \n",
       "3 NA      1      7      14       1.06   0.91  0.96     2      2         1   \n",
       "4  1      1      7      15       1.05   1.01  0.94     2      2        NA   \n",
       "5 NA      2     11      10       1.06   0.95  3.09     5      3         1   \n",
       "6  0      1     11      11       1.05   0.94  2.75     5      3        NA   "
      ]
     },
     "metadata": {},
     "output_type": "display_data"
    }
   ],
   "source": [
    "# The head command will show you a snapshot of the data in an Excel-like format\n",
    "head(minwage_data)"
   ]
  },
  {
   "cell_type": "code",
   "execution_count": 8,
   "id": "2c830b83",
   "metadata": {},
   "outputs": [
    {
     "data": {
      "text/html": [
       "820"
      ],
      "text/latex": [
       "820"
      ],
      "text/markdown": [
       "820"
      ],
      "text/plain": [
       "[1] 820"
      ]
     },
     "metadata": {},
     "output_type": "display_data"
    }
   ],
   "source": [
    "# The number of observations is equal to the number of rows.\n",
    "\n",
    "nrow(minwage_data)"
   ]
  },
  {
   "cell_type": "markdown",
   "id": "833d5b34",
   "metadata": {},
   "source": [
    "## Compare the summarizing commands `summary` and `table`"
   ]
  },
  {
   "cell_type": "code",
   "execution_count": 9,
   "id": "12c3bf63",
   "metadata": {},
   "outputs": [
    {
     "data": {
      "text/plain": [
       "    store_id       interview       chain          co_owned     \n",
       " Min.   :  1.0   Min.   :1.0   Min.   :1.000   Min.   :0.0000  \n",
       " 1st Qu.:119.0   1st Qu.:1.0   1st Qu.:1.000   1st Qu.:0.0000  \n",
       " Median :237.5   Median :1.5   Median :2.000   Median :0.0000  \n",
       " Mean   :246.8   Mean   :1.5   Mean   :2.117   Mean   :0.3439  \n",
       " 3rd Qu.:372.0   3rd Qu.:2.0   3rd Qu.:3.000   3rd Qu.:1.0000  \n",
       " Max.   :523.0   Max.   :2.0   Max.   :4.000   Max.   :1.0000  \n",
       "                                                               \n",
       "     state            southj          centralj          northj      \n",
       " Min.   :0.0000   Min.   :0.0000   Min.   :0.0000   Min.   :0.0000  \n",
       " 1st Qu.:1.0000   1st Qu.:0.0000   1st Qu.:0.0000   1st Qu.:0.0000  \n",
       " Median :1.0000   Median :0.0000   Median :0.0000   Median :0.0000  \n",
       " Mean   :0.8073   Mean   :0.2268   Mean   :0.1537   Mean   :0.4268  \n",
       " 3rd Qu.:1.0000   3rd Qu.:0.0000   3rd Qu.:0.0000   3rd Qu.:1.0000  \n",
       " Max.   :1.0000   Max.   :1.0000   Max.   :1.0000   Max.   :1.0000  \n",
       "                                                                    \n",
       "      pa1              pa2             shore            pct_aff      \n",
       " Min.   :0.0000   Min.   :0.0000   Min.   :0.00000   Min.   :  0.00  \n",
       " 1st Qu.:0.0000   1st Qu.:0.0000   1st Qu.:0.00000   1st Qu.: 15.00  \n",
       " Median :0.0000   Median :0.0000   Median :0.00000   Median : 50.00  \n",
       " Mean   :0.0878   Mean   :0.1049   Mean   :0.08537   Mean   : 48.87  \n",
       " 3rd Qu.:0.0000   3rd Qu.:0.0000   3rd Qu.:0.00000   3rd Qu.: 80.00  \n",
       " Max.   :1.0000   Max.   :1.0000   Max.   :1.00000   Max.   :100.00  \n",
       "                                                     NA's   :88      \n",
       "      type           status           date            ncalls     \n",
       " Min.   :1.000   Min.   :0.000   Min.   :110592   Min.   :0.000  \n",
       " 1st Qu.:1.000   1st Qu.:1.000   1st Qu.:111192   1st Qu.:0.000  \n",
       " Median :1.000   Median :1.000   Median :111392   Median :1.000  \n",
       " Mean   :1.095   Mean   :1.049   Mean   :112399   Mean   :1.447  \n",
       " 3rd Qu.:1.000   3rd Qu.:1.000   3rd Qu.:111792   3rd Qu.:2.000  \n",
       " Max.   :2.000   Max.   :5.000   Max.   :123192   Max.   :9.000  \n",
       " NA's   :410     NA's   :410     NA's   :410      NA's   :249    \n",
       "   full_time        part_time        managers         wage_st     \n",
       " Min.   : 0.000   Min.   : 0.00   Min.   : 0.000   Min.   :4.250  \n",
       " 1st Qu.: 2.000   1st Qu.:11.00   1st Qu.: 3.000   1st Qu.:4.500  \n",
       " Median : 6.000   Median :17.00   Median : 3.000   Median :5.000  \n",
       " Mean   : 8.239   Mean   :18.75   Mean   : 3.452   Mean   :4.806  \n",
       " 3rd Qu.:12.000   3rd Qu.:25.00   3rd Qu.: 4.000   3rd Qu.:5.050  \n",
       " Max.   :60.000   Max.   :60.00   Max.   :10.000   Max.   :6.250  \n",
       " NA's   :18       NA's   :14      NA's   :12       NA's   :41     \n",
       "    inc_time       first_inc         special           meals      \n",
       " Min.   : 2.00   Min.   :0.0000   Min.   :0.0000   Min.   :0.000  \n",
       " 1st Qu.:13.00   1st Qu.:0.1500   1st Qu.:0.0000   1st Qu.:2.000  \n",
       " Median :19.00   Median :0.2000   Median :0.0000   Median :2.000  \n",
       " Mean   :20.08   Mean   :0.2214   Mean   :0.2092   Mean   :1.843  \n",
       " 3rd Qu.:26.00   3rd Qu.:0.2500   3rd Qu.:0.0000   3rd Qu.:2.000  \n",
       " Max.   :52.00   Max.   :1.0000   Max.   :1.0000   Max.   :3.000  \n",
       " NA's   :97      NA's   :123      NA's   :428      NA's   :11     \n",
       "    open_hr          hrs_open         p_soda          p_fry       \n",
       " Min.   : 0.000   Min.   : 7.00   Min.   :0.410   Min.   :0.6700  \n",
       " 1st Qu.: 6.500   1st Qu.:12.00   1st Qu.:1.000   1st Qu.:0.8500  \n",
       " Median : 7.000   Median :15.00   Median :1.050   Median :0.9400  \n",
       " Mean   : 8.076   Mean   :14.45   Mean   :1.045   Mean   :0.9315  \n",
       " 3rd Qu.:10.500   3rd Qu.:16.00   3rd Qu.:1.090   3rd Qu.:1.0100  \n",
       " Max.   :11.500   Max.   :24.00   Max.   :1.490   Max.   :1.3700  \n",
       " NA's   :11       NA's   :11      NA's   :30      NA's   :45      \n",
       "    p_entree         n_regs         n_regs11         bonus       \n",
       " Min.   :0.410   Min.   :1.000   Min.   :0.000   Min.   :0.0000  \n",
       " 1st Qu.:0.940   1st Qu.:3.000   1st Qu.:2.000   1st Qu.:0.0000  \n",
       " Median :1.030   Median :3.000   Median :3.000   Median :0.0000  \n",
       " Mean   :1.338   Mean   :3.601   Mean   :2.689   Mean   :0.2463  \n",
       " 3rd Qu.:1.843   3rd Qu.:4.000   3rd Qu.:3.000   3rd Qu.:0.0000  \n",
       " Max.   :3.950   Max.   :8.000   Max.   :7.000   Max.   :1.0000  \n",
       " NA's   :36      NA's   :28      NA's   :39      NA's   :410     "
      ]
     },
     "metadata": {},
     "output_type": "display_data"
    }
   ],
   "source": [
    "# You can get some summary statistics for the variables using the summary command\n",
    "summary(minwage_data)"
   ]
  },
  {
   "cell_type": "code",
   "execution_count": 10,
   "id": "6be39a72",
   "metadata": {},
   "outputs": [
    {
     "data": {
      "text/plain": [
       "   Min. 1st Qu.  Median    Mean 3rd Qu.    Max.    NA's \n",
       "  4.250   4.500   5.000   4.806   5.050   6.250      41 "
      ]
     },
     "metadata": {},
     "output_type": "display_data"
    },
    {
     "data": {
      "text/plain": [
       "   Min. 1st Qu.  Median    Mean 3rd Qu.    Max. \n",
       "  1.000   1.000   2.000   2.117   3.000   4.000 "
      ]
     },
     "metadata": {},
     "output_type": "display_data"
    }
   ],
   "source": [
    "# You can also do it for an individual variable. Here, we look at the starting wage, wage_st,\n",
    "# and chain identifier, chain.\n",
    "\n",
    "# You have to tell R which dataset to look in first. The $ sign tells it you are moving on\n",
    "# from the dataset name to the variable name.\n",
    "\n",
    "summary(minwage_data$wage_st)\n",
    "summary(minwage_data$chain)"
   ]
  },
  {
   "cell_type": "code",
   "execution_count": 11,
   "id": "0f20cfeb",
   "metadata": {},
   "outputs": [
    {
     "data": {
      "text/plain": [
       "\n",
       "     4.25 4.3000002 4.3200002 4.3499999 4.3699999 4.3800001 4.3899999 4.4000001 \n",
       "      147         1         1         9         5         1         1         2 \n",
       "4.4499998       4.5 4.5500002 4.5999999 4.6199999 4.6500001 4.6700001      4.75 \n",
       "        3        74         2         2        15         2         2        62 \n",
       "4.8000002 4.8499999 4.8699999 4.9000001 4.9099998 4.9499998         5 5.0500002 \n",
       "        4         2         8         2         1         2        79       288 \n",
       "5.0599999 5.0999999 5.1199999 5.1399999 5.1500001 5.1999998      5.25 5.2800002 \n",
       "        1         2         3         1         2         3        23         1 \n",
       "5.3000002 5.3699999 5.4000001 5.4200001       5.5 5.5599999 5.6199999 5.6700001 \n",
       "        2         1         1         1        16         1         1         2 \n",
       "     5.75      6.25 \n",
       "        2         1 "
      ]
     },
     "metadata": {},
     "output_type": "display_data"
    },
    {
     "data": {
      "text/plain": [
       "\n",
       "  1   2   3   4 \n",
       "342 160 198 120 "
      ]
     },
     "metadata": {},
     "output_type": "display_data"
    }
   ],
   "source": [
    "# The table command provides a different kind of summary. Can you tell what it is doing?\n",
    "\n",
    "table(minwage_data$wage_st)\n",
    "table(minwage_data$chain)"
   ]
  },
  {
   "cell_type": "code",
   "execution_count": 12,
   "id": "cf19abb2",
   "metadata": {},
   "outputs": [
    {
     "data": {
      "text/plain": [
       "   Min. 1st Qu.  Median    Mean 3rd Qu.    Max.    NA's \n",
       "  4.250   4.250   4.500   4.616   4.950   5.750      20 "
      ]
     },
     "metadata": {},
     "output_type": "display_data"
    },
    {
     "data": {
      "text/plain": [
       "   Min. 1st Qu.  Median    Mean 3rd Qu.    Max.    NA's \n",
       "  4.250   5.050   5.050   4.996   5.050   6.250      21 "
      ]
     },
     "metadata": {},
     "output_type": "display_data"
    }
   ],
   "source": [
    "# What if you want to look at summary statistics for a subset of observations?\n",
    "# Let's compare summary statistics for wage_st when interview == 1 and interview == 2\n",
    "# (which means before and after the minimum wage increase)\n",
    "\n",
    "summary(minwage_data[which(minwage_data$interview == 1),]$wage_st)\n",
    "summary(minwage_data[which(minwage_data$interview == 2),]$wage_st)"
   ]
  },
  {
   "cell_type": "code",
   "execution_count": 13,
   "id": "a947bcfa",
   "metadata": {},
   "outputs": [
    {
     "data": {
      "text/plain": [
       "\n",
       "  1   2   3   4 \n",
       "171  80  99  60 "
      ]
     },
     "metadata": {},
     "output_type": "display_data"
    },
    {
     "data": {
      "text/plain": [
       "\n",
       "  1   2   3   4 \n",
       "171  80  99  60 "
      ]
     },
     "metadata": {},
     "output_type": "display_data"
    },
    {
     "data": {
      "text/plain": [
       "\n",
       "  1   2   3   4 \n",
       "158  70  93  54 "
      ]
     },
     "metadata": {},
     "output_type": "display_data"
    }
   ],
   "source": [
    "# And also examine chain composition for before and after -- note use of & for \"and\": both conditions\n",
    "# need to be true.\n",
    "table(minwage_data[which(minwage_data$interview == 1),]$chain)\n",
    "table(minwage_data[which(minwage_data$interview == 2),]$chain)\n",
    "table(minwage_data[which(minwage_data$interview == 1 & minwage_data$shore == 0),]$chain)"
   ]
  },
  {
   "cell_type": "markdown",
   "id": "b3b8fbe4",
   "metadata": {},
   "source": [
    "## Clean the data\n",
    "In the real world, data is messy and there may be some mistakes that you (the researcher) will have to discover and fix"
   ]
  },
  {
   "cell_type": "code",
   "execution_count": 14,
   "id": "45b450b0",
   "metadata": {},
   "outputs": [
    {
     "data": {
      "text/plain": [
       "\n",
       "   0    1    2    3    4    5    6    7    8    9 <NA> \n",
       " 208  108  142   73   21    4    6    1    4    4  249 "
      ]
     },
     "metadata": {},
     "output_type": "display_data"
    },
    {
     "data": {
      "text/plain": [
       "\n",
       "  0   1   2   3   4   5   6   8 \n",
       "208  37  95  53  11   2   2   2 "
      ]
     },
     "metadata": {},
     "output_type": "display_data"
    },
    {
     "data": {
      "text/plain": [
       "\n",
       "   1    2    3    4    5    6    7    8    9 <NA> \n",
       "  71   47   20   10    2    4    1    2    4  249 "
      ]
     },
     "metadata": {},
     "output_type": "display_data"
    }
   ],
   "source": [
    "table(minwage_data$ncalls, useNA = \"ifany\")\n",
    "\n",
    "table(minwage_data[which(minwage_data$interview == 1),]$ncalls, useNA = \"ifany\")\n",
    "table(minwage_data[which(minwage_data$interview == 2),]$ncalls, useNA = \"ifany\")"
   ]
  },
  {
   "cell_type": "code",
   "execution_count": 15,
   "id": "0a989bbd",
   "metadata": {},
   "outputs": [
    {
     "data": {
      "text/plain": [
       "\n",
       "  0   1   2   3   4   5   6   8 \n",
       "208  37  95  53  11   2   2   2 "
      ]
     },
     "metadata": {},
     "output_type": "display_data"
    },
    {
     "data": {
      "text/plain": [
       "\n",
       "  0   1   2   3   4   5   6   7   8   9 \n",
       "249  71  47  20  10   2   4   1   2   4 "
      ]
     },
     "metadata": {},
     "output_type": "display_data"
    }
   ],
   "source": [
    "# Let's assume that any missing values are equal to 0 and make that change.\n",
    "minwage_data$ncalls[is.na(minwage_data$ncalls)] <- 0\n",
    "\n",
    "# Verify we've done it correctly\n",
    "table(minwage_data[which(minwage_data$interview == 1),]$ncalls, useNA = \"ifany\")\n",
    "table(minwage_data[which(minwage_data$interview == 2),]$ncalls, useNA = \"ifany\")"
   ]
  },
  {
   "cell_type": "markdown",
   "id": "8cbe9e3f",
   "metadata": {},
   "source": [
    "## Create some variables\n",
    "We will create variables indicating PA and NJ stores. I'll show two ways to do this."
   ]
  },
  {
   "cell_type": "code",
   "execution_count": 16,
   "id": "32fa9ace",
   "metadata": {},
   "outputs": [],
   "source": [
    "# Method 1: create an empty variable, all equal to zero, and replace with one as appropriate.\n",
    "minwage_data$pa <- 0\n",
    "minwage_data$pa[minwage_data$pa1 == 1] <- 1\n",
    "minwage_data$pa[minwage_data$pa2 == 1] <- 1\n",
    "\n",
    "# Method 2: take advantage of the fact that all regions are {0, 1} binary variables\n",
    "minwage_data$nj <- minwage_data$southj + minwage_data$northj + minwage_data$centralj + minwage_data$shore"
   ]
  },
  {
   "cell_type": "code",
   "execution_count": 17,
   "id": "55dbe064",
   "metadata": {},
   "outputs": [
    {
     "data": {
      "text/plain": [
       "   Min. 1st Qu.  Median    Mean 3rd Qu.    Max. \n",
       " 0.0000  1.0000  1.0000  0.8927  1.0000  2.0000 "
      ]
     },
     "metadata": {},
     "output_type": "display_data"
    },
    {
     "data": {
      "text/plain": [
       "   Min. 1st Qu.  Median    Mean 3rd Qu.    Max. \n",
       " 0.0000  0.0000  0.0000  0.1927  0.0000  1.0000 "
      ]
     },
     "metadata": {},
     "output_type": "display_data"
    }
   ],
   "source": [
    "# Let's check our work. What should be true about the means?\n",
    "summary(minwage_data$nj)\n",
    "summary(minwage_data$pa)"
   ]
  },
  {
   "cell_type": "code",
   "execution_count": null,
   "id": "912be8a2",
   "metadata": {
    "scrolled": true
   },
   "outputs": [],
   "source": [
    "# Uh-oh. We messed up. \"Shore\" is in addition to NJ regions.\n",
    "minwage_data$nj <- minwage_data$southj + minwage_data$northj + minwage_data$centralj\n",
    "\n",
    "# And here's perhaps an easier way to check our work\n",
    "table(minwage_data$nj)\n",
    "table(minwage_data$pa)"
   ]
  },
  {
   "cell_type": "code",
   "execution_count": null,
   "id": "14c2c47e",
   "metadata": {},
   "outputs": [],
   "source": [
    "# We are going to exclude stores on the Jersey Shore in our analysis because we don't think that\n",
    "# they are different from other stores: the pre-period is in March and the post-period is in\n",
    "# November, and we might worry that seasonal patterns from beach tourism might affect the shore\n",
    "# stores differently, making them poor comparisons to \"typical\" stores.\n",
    "minwage_no_shore <- minwage_data[which(minwage_data$shore != 1),]\n",
    "\n",
    "table(minwage_no_shore$nj)\n",
    "table(minwage_no_shore$pa)\n",
    "\n",
    "# And let's save this dataset.\n",
    "write.csv(minwage_no_shore,\"minwage_no_shore.csv\",row.names = FALSE)"
   ]
  },
  {
   "cell_type": "markdown",
   "id": "91521e39",
   "metadata": {},
   "source": [
    "## Plotting the data\n",
    "Now, let's make some histograms showing the wage distribution before and after."
   ]
  },
  {
   "cell_type": "code",
   "execution_count": null,
   "id": "5ffaa51e",
   "metadata": {},
   "outputs": [],
   "source": [
    "# It is easier to define some additional variables so we don't have to keep typing \"which\" commands.\n",
    "# This is also good coding practice because it makes your code easier to read.\n",
    "pre_all  <- minwage_no_shore[which(minwage_no_shore$interview == 1),]$wage_st\n",
    "post_all <- minwage_no_shore[which(minwage_no_shore$interview == 2),]$wage_st\n",
    "\n",
    "hist(pre_all, main = \"Starting Wages, Pre-period\")\n",
    "hist(post_all, main = \"Starting Wages, Post-period\")"
   ]
  },
  {
   "cell_type": "code",
   "execution_count": null,
   "id": "0805bc63",
   "metadata": {},
   "outputs": [],
   "source": [
    "# What about overlaying two histograms? How might we do that?\n",
    "?hist\n",
    "# The help command is very detailed and isn't super helpful for us.\n",
    "# Let's try Google.\n",
    "\n",
    "# Google \"R histogram two variables\" (without the quotes) and let's see what comes up.\n",
    "# Google is your friend! I Google things all the time, and the community is really helpful."
   ]
  },
  {
   "cell_type": "code",
   "execution_count": null,
   "id": "81116a01",
   "metadata": {},
   "outputs": [],
   "source": [
    "# Below is what we can do, with guidance from the first result\n",
    "# First, we will make four datasets, pre and post with NJ and PA:\n",
    "pre_nj <- minwage_no_shore[which(minwage_no_shore$interview == 1 & minwage_no_shore$nj == 1),]$wage_st\n",
    "pre_pa <- minwage_no_shore[which(minwage_no_shore$interview == 1 & minwage_no_shore$nj == 0),]$wage_st\n",
    "\n",
    "post_nj <- minwage_no_shore[which(minwage_no_shore$interview == 2 & minwage_no_shore$nj == 1),]$wage_st\n",
    "post_pa <- minwage_no_shore[which(minwage_no_shore$interview == 2 & minwage_no_shore$nj == 0),]$wage_st\n",
    "\n",
    "hist(pre_nj, col=rgb(0,0,1,0.2), freq = FALSE, xlim=c(4, 6.5),\n",
    "     xlab='Wage', ylab='Density', main='Pre-Period Starting Wages')\n",
    "hist(pre_pa, col=rgb(1,0,0,0.2), freq = FALSE, add=TRUE)\n",
    "legend('topright', c('NJ', 'PA'),\n",
    "       fill=c(rgb(0,0,1,0.2), rgb(1,0,0,0.2)))\n",
    "\n",
    "hist(post_nj, col=rgb(0,0,1,0.2), freq = FALSE, xlim=c(4, 6.5), breaks=seq(4,6.5,0.2),\n",
    "     xlab='Wage', ylab='Density', main='Post-Period Starting Wages')\n",
    "hist(post_pa, col=rgb(1,0,0,0.2), freq = FALSE, breaks=seq(4,6.5,0.2), add=TRUE)\n",
    "legend('topright', c('NJ', 'PA'),\n",
    "       fill=c(rgb(0,0,1,0.2), rgb(1,0,0,0.2)))"
   ]
  },
  {
   "cell_type": "markdown",
   "id": "f078641a",
   "metadata": {},
   "source": [
    "Make sure you quit using `File`--> `Close and Halt` or you may lose your work!"
   ]
  }
 ],
 "metadata": {
  "kernelspec": {
   "display_name": "R",
   "language": "R",
   "name": "ir"
  },
  "language_info": {
   "codemirror_mode": "r",
   "file_extension": ".r",
   "mimetype": "text/x-r-source",
   "name": "R",
   "pygments_lexer": "r",
   "version": "4.2.1"
  }
 },
 "nbformat": 4,
 "nbformat_minor": 5
}
